{
 "cells": [
  {
   "cell_type": "markdown",
   "id": "17e6503c",
   "metadata": {},
   "source": [
    "## Importing Libraries"
   ]
  },
  {
   "cell_type": "code",
   "execution_count": 171,
   "id": "64d78a8a",
   "metadata": {},
   "outputs": [],
   "source": [
    "import numpy as np\n",
    "import pandas as pd\n",
    "import matplotlib.pyplot as plt\n",
    "import seaborn as sns\n",
    "from collections import Counter\n",
    "import re\n",
    "import nltk\n",
    "from nltk.corpus import stopwords, wordnet\n",
    "from nltk.stem import WordNetLemmatizer\n",
    "from nltk.tokenize import word_tokenize\n",
    "from nltk.util import ngrams"
   ]
  },
  {
   "cell_type": "code",
   "execution_count": 172,
   "id": "3bc419f9",
   "metadata": {},
   "outputs": [
    {
     "name": "stderr",
     "output_type": "stream",
     "text": [
      "[nltk_data] Downloading package stopwords to\n",
      "[nltk_data]     C:\\Users\\DELL\\AppData\\Roaming\\nltk_data...\n",
      "[nltk_data]   Package stopwords is already up-to-date!\n",
      "[nltk_data] Downloading package wordnet to\n",
      "[nltk_data]     C:\\Users\\DELL\\AppData\\Roaming\\nltk_data...\n",
      "[nltk_data]   Package wordnet is already up-to-date!\n",
      "[nltk_data] Downloading package omw-1.4 to\n",
      "[nltk_data]     C:\\Users\\DELL\\AppData\\Roaming\\nltk_data...\n",
      "[nltk_data]   Package omw-1.4 is already up-to-date!\n",
      "[nltk_data] Downloading package punkt to\n",
      "[nltk_data]     C:\\Users\\DELL\\AppData\\Roaming\\nltk_data...\n",
      "[nltk_data]   Package punkt is already up-to-date!\n"
     ]
    },
    {
     "data": {
      "text/plain": [
       "True"
      ]
     },
     "execution_count": 172,
     "metadata": {},
     "output_type": "execute_result"
    }
   ],
   "source": [
    "nltk.download('stopwords')\n",
    "nltk.download('wordnet')\n",
    "nltk.download('omw-1.4')\n",
    "nltk.download('punkt')"
   ]
  },
  {
   "cell_type": "markdown",
   "id": "ab91d256",
   "metadata": {},
   "source": [
    "## Loading Data"
   ]
  },
  {
   "cell_type": "code",
   "execution_count": 173,
   "id": "4eb8ba47",
   "metadata": {},
   "outputs": [
    {
     "data": {
      "text/html": [
       "<div>\n",
       "<style scoped>\n",
       "    .dataframe tbody tr th:only-of-type {\n",
       "        vertical-align: middle;\n",
       "    }\n",
       "\n",
       "    .dataframe tbody tr th {\n",
       "        vertical-align: top;\n",
       "    }\n",
       "\n",
       "    .dataframe thead th {\n",
       "        text-align: right;\n",
       "    }\n",
       "</style>\n",
       "<table border=\"1\" class=\"dataframe\">\n",
       "  <thead>\n",
       "    <tr style=\"text-align: right;\">\n",
       "      <th></th>\n",
       "      <th>Sentence</th>\n",
       "      <th>Sentiment</th>\n",
       "    </tr>\n",
       "  </thead>\n",
       "  <tbody>\n",
       "    <tr>\n",
       "      <th>0</th>\n",
       "      <td>The GeoSolutions technology will leverage Bene...</td>\n",
       "      <td>positive</td>\n",
       "    </tr>\n",
       "    <tr>\n",
       "      <th>1</th>\n",
       "      <td>$ESI on lows, down $1.50 to $2.50 BK a real po...</td>\n",
       "      <td>negative</td>\n",
       "    </tr>\n",
       "    <tr>\n",
       "      <th>2</th>\n",
       "      <td>For the last quarter of 2010 , Componenta 's n...</td>\n",
       "      <td>positive</td>\n",
       "    </tr>\n",
       "    <tr>\n",
       "      <th>3</th>\n",
       "      <td>According to the Finnish-Russian Chamber of Co...</td>\n",
       "      <td>neutral</td>\n",
       "    </tr>\n",
       "    <tr>\n",
       "      <th>4</th>\n",
       "      <td>The Swedish buyout firm has sold its remaining...</td>\n",
       "      <td>neutral</td>\n",
       "    </tr>\n",
       "    <tr>\n",
       "      <th>...</th>\n",
       "      <td>...</td>\n",
       "      <td>...</td>\n",
       "    </tr>\n",
       "    <tr>\n",
       "      <th>5837</th>\n",
       "      <td>RISING costs have forced packaging producer Hu...</td>\n",
       "      <td>negative</td>\n",
       "    </tr>\n",
       "    <tr>\n",
       "      <th>5838</th>\n",
       "      <td>Nordic Walking was first used as a summer trai...</td>\n",
       "      <td>neutral</td>\n",
       "    </tr>\n",
       "    <tr>\n",
       "      <th>5839</th>\n",
       "      <td>According shipping company Viking Line , the E...</td>\n",
       "      <td>neutral</td>\n",
       "    </tr>\n",
       "    <tr>\n",
       "      <th>5840</th>\n",
       "      <td>In the building and home improvement trade , s...</td>\n",
       "      <td>neutral</td>\n",
       "    </tr>\n",
       "    <tr>\n",
       "      <th>5841</th>\n",
       "      <td>HELSINKI AFX - KCI Konecranes said it has won ...</td>\n",
       "      <td>positive</td>\n",
       "    </tr>\n",
       "  </tbody>\n",
       "</table>\n",
       "<p>5842 rows × 2 columns</p>\n",
       "</div>"
      ],
      "text/plain": [
       "                                               Sentence Sentiment\n",
       "0     The GeoSolutions technology will leverage Bene...  positive\n",
       "1     $ESI on lows, down $1.50 to $2.50 BK a real po...  negative\n",
       "2     For the last quarter of 2010 , Componenta 's n...  positive\n",
       "3     According to the Finnish-Russian Chamber of Co...   neutral\n",
       "4     The Swedish buyout firm has sold its remaining...   neutral\n",
       "...                                                 ...       ...\n",
       "5837  RISING costs have forced packaging producer Hu...  negative\n",
       "5838  Nordic Walking was first used as a summer trai...   neutral\n",
       "5839  According shipping company Viking Line , the E...   neutral\n",
       "5840  In the building and home improvement trade , s...   neutral\n",
       "5841  HELSINKI AFX - KCI Konecranes said it has won ...  positive\n",
       "\n",
       "[5842 rows x 2 columns]"
      ]
     },
     "execution_count": 173,
     "metadata": {},
     "output_type": "execute_result"
    }
   ],
   "source": [
    "df = pd.read_csv('data.csv')\n",
    "df"
   ]
  },
  {
   "cell_type": "code",
   "execution_count": 174,
   "id": "9e95ebbc",
   "metadata": {},
   "outputs": [
    {
     "name": "stdout",
     "output_type": "stream",
     "text": [
      "Number of Documents: 5842\n"
     ]
    }
   ],
   "source": [
    "print(f\"Number of Documents: {df.shape[0]}\")"
   ]
  },
  {
   "cell_type": "markdown",
   "id": "b80717bf",
   "metadata": {},
   "source": [
    "## Document's Text length Analysis and Distribution"
   ]
  },
  {
   "cell_type": "code",
   "execution_count": 175,
   "id": "73e51a79",
   "metadata": {},
   "outputs": [
    {
     "data": {
      "text/html": [
       "<div>\n",
       "<style scoped>\n",
       "    .dataframe tbody tr th:only-of-type {\n",
       "        vertical-align: middle;\n",
       "    }\n",
       "\n",
       "    .dataframe tbody tr th {\n",
       "        vertical-align: top;\n",
       "    }\n",
       "\n",
       "    .dataframe thead th {\n",
       "        text-align: right;\n",
       "    }\n",
       "</style>\n",
       "<table border=\"1\" class=\"dataframe\">\n",
       "  <thead>\n",
       "    <tr style=\"text-align: right;\">\n",
       "      <th></th>\n",
       "      <th>Sentence</th>\n",
       "      <th>Sentiment</th>\n",
       "      <th>text_length</th>\n",
       "    </tr>\n",
       "  </thead>\n",
       "  <tbody>\n",
       "    <tr>\n",
       "      <th>0</th>\n",
       "      <td>The GeoSolutions technology will leverage Bene...</td>\n",
       "      <td>positive</td>\n",
       "      <td>218</td>\n",
       "    </tr>\n",
       "    <tr>\n",
       "      <th>1</th>\n",
       "      <td>$ESI on lows, down $1.50 to $2.50 BK a real po...</td>\n",
       "      <td>negative</td>\n",
       "      <td>55</td>\n",
       "    </tr>\n",
       "    <tr>\n",
       "      <th>2</th>\n",
       "      <td>For the last quarter of 2010 , Componenta 's n...</td>\n",
       "      <td>positive</td>\n",
       "      <td>193</td>\n",
       "    </tr>\n",
       "    <tr>\n",
       "      <th>3</th>\n",
       "      <td>According to the Finnish-Russian Chamber of Co...</td>\n",
       "      <td>neutral</td>\n",
       "      <td>128</td>\n",
       "    </tr>\n",
       "    <tr>\n",
       "      <th>4</th>\n",
       "      <td>The Swedish buyout firm has sold its remaining...</td>\n",
       "      <td>neutral</td>\n",
       "      <td>135</td>\n",
       "    </tr>\n",
       "    <tr>\n",
       "      <th>...</th>\n",
       "      <td>...</td>\n",
       "      <td>...</td>\n",
       "      <td>...</td>\n",
       "    </tr>\n",
       "    <tr>\n",
       "      <th>5837</th>\n",
       "      <td>RISING costs have forced packaging producer Hu...</td>\n",
       "      <td>negative</td>\n",
       "      <td>107</td>\n",
       "    </tr>\n",
       "    <tr>\n",
       "      <th>5838</th>\n",
       "      <td>Nordic Walking was first used as a summer trai...</td>\n",
       "      <td>neutral</td>\n",
       "      <td>83</td>\n",
       "    </tr>\n",
       "    <tr>\n",
       "      <th>5839</th>\n",
       "      <td>According shipping company Viking Line , the E...</td>\n",
       "      <td>neutral</td>\n",
       "      <td>99</td>\n",
       "    </tr>\n",
       "    <tr>\n",
       "      <th>5840</th>\n",
       "      <td>In the building and home improvement trade , s...</td>\n",
       "      <td>neutral</td>\n",
       "      <td>88</td>\n",
       "    </tr>\n",
       "    <tr>\n",
       "      <th>5841</th>\n",
       "      <td>HELSINKI AFX - KCI Konecranes said it has won ...</td>\n",
       "      <td>positive</td>\n",
       "      <td>145</td>\n",
       "    </tr>\n",
       "  </tbody>\n",
       "</table>\n",
       "<p>5842 rows × 3 columns</p>\n",
       "</div>"
      ],
      "text/plain": [
       "                                               Sentence Sentiment  text_length\n",
       "0     The GeoSolutions technology will leverage Bene...  positive          218\n",
       "1     $ESI on lows, down $1.50 to $2.50 BK a real po...  negative           55\n",
       "2     For the last quarter of 2010 , Componenta 's n...  positive          193\n",
       "3     According to the Finnish-Russian Chamber of Co...   neutral          128\n",
       "4     The Swedish buyout firm has sold its remaining...   neutral          135\n",
       "...                                                 ...       ...          ...\n",
       "5837  RISING costs have forced packaging producer Hu...  negative          107\n",
       "5838  Nordic Walking was first used as a summer trai...   neutral           83\n",
       "5839  According shipping company Viking Line , the E...   neutral           99\n",
       "5840  In the building and home improvement trade , s...   neutral           88\n",
       "5841  HELSINKI AFX - KCI Konecranes said it has won ...  positive          145\n",
       "\n",
       "[5842 rows x 3 columns]"
      ]
     },
     "execution_count": 175,
     "metadata": {},
     "output_type": "execute_result"
    }
   ],
   "source": [
    "df['text_length'] = df['Sentence'].apply(lambda x: len(x))\n",
    "df"
   ]
  },
  {
   "cell_type": "code",
   "execution_count": 177,
   "id": "73acac1f",
   "metadata": {},
   "outputs": [
    {
     "data": {
      "image/png": "[encoded data removed]",
      "text/plain": [
       "<Figure size 720x432 with 1 Axes>"
      ]
     },
     "metadata": {
      "needs_background": "light"
     },
     "output_type": "display_data"
    }
   ],
   "source": [
    "plt.figure(figsize=(10, 6))\n",
    "sns.histplot(df['text_length'], kde=True, bins=30)\n",
    "plt.title(\"Distribution of Document's text lengths (number of characters)\")\n",
    "plt.xlabel('Number of Characters')\n",
    "plt.ylabel('Frequency')\n",
    "plt.show()"
   ]
  },
  {
   "cell_type": "markdown",
   "id": "2bb6d09d",
   "metadata": {},
   "source": [
    "## Class Distribution"
   ]
  },
  {
   "cell_type": "code",
   "execution_count": 178,
   "id": "89d1d9aa",
   "metadata": {},
   "outputs": [
    {
     "data": {
      "image/png": "[encoded data removed]",
      "text/plain": [
       "<Figure size 432x288 with 1 Axes>"
      ]
     },
     "metadata": {
      "needs_background": "light"
     },
     "output_type": "display_data"
    },
    {
     "name": "stdout",
     "output_type": "stream",
     "text": [
      "Class distribution:\n",
      " neutral     3130\n",
      "positive    1852\n",
      "negative     860\n",
      "Name: Sentiment, dtype: int64\n"
     ]
    }
   ],
   "source": [
    "class_counts = df['Sentiment'].value_counts()\n",
    "plt.figure(figsize=(6, 4))\n",
    "sns.barplot(x=class_counts.index, y=class_counts.values, palette='viridis')\n",
    "plt.title('Class Distribution')\n",
    "plt.xlabel('Sentiment Class')\n",
    "plt.ylabel('Number of Samples')\n",
    "plt.show()\n",
    "\n",
    "print('Class distribution:\\n', class_counts)"
   ]
  },
  {
   "cell_type": "markdown",
   "id": "11ec5267",
   "metadata": {},
   "source": [
    "## Cleaning text: removing special characters, stopwords and applying Lemmatization"
   ]
  },
  {
   "cell_type": "code",
   "execution_count": 179,
   "id": "b972e0ba",
   "metadata": {},
   "outputs": [],
   "source": [
    "lemmatizer = WordNetLemmatizer()\n",
    "def clean_text(text):\n",
    "    text = text.lower()  \n",
    "    text = re.sub(r'\\W+', ' ', text)\n",
    "    tokens = text.split()\n",
    "    tokens = [lemmatizer.lemmatize(word) for word in tokens if word not in stopwords.words('english')]\n",
    "    return ' '.join(tokens)"
   ]
  },
  {
   "cell_type": "code",
   "execution_count": 180,
   "id": "064e2449",
   "metadata": {},
   "outputs": [
    {
     "data": {
      "text/html": [
       "<div>\n",
       "<style scoped>\n",
       "    .dataframe tbody tr th:only-of-type {\n",
       "        vertical-align: middle;\n",
       "    }\n",
       "\n",
       "    .dataframe tbody tr th {\n",
       "        vertical-align: top;\n",
       "    }\n",
       "\n",
       "    .dataframe thead th {\n",
       "        text-align: right;\n",
       "    }\n",
       "</style>\n",
       "<table border=\"1\" class=\"dataframe\">\n",
       "  <thead>\n",
       "    <tr style=\"text-align: right;\">\n",
       "      <th></th>\n",
       "      <th>Sentence</th>\n",
       "      <th>Sentiment</th>\n",
       "      <th>text_length</th>\n",
       "      <th>cleaned_text</th>\n",
       "    </tr>\n",
       "  </thead>\n",
       "  <tbody>\n",
       "    <tr>\n",
       "      <th>0</th>\n",
       "      <td>The GeoSolutions technology will leverage Bene...</td>\n",
       "      <td>positive</td>\n",
       "      <td>218</td>\n",
       "      <td>geosolutions technology leverage benefon gps s...</td>\n",
       "    </tr>\n",
       "    <tr>\n",
       "      <th>1</th>\n",
       "      <td>$ESI on lows, down $1.50 to $2.50 BK a real po...</td>\n",
       "      <td>negative</td>\n",
       "      <td>55</td>\n",
       "      <td>esi low 1 50 2 50 bk real possibility</td>\n",
       "    </tr>\n",
       "    <tr>\n",
       "      <th>2</th>\n",
       "      <td>For the last quarter of 2010 , Componenta 's n...</td>\n",
       "      <td>positive</td>\n",
       "      <td>193</td>\n",
       "      <td>last quarter 2010 componenta net sale doubled ...</td>\n",
       "    </tr>\n",
       "    <tr>\n",
       "      <th>3</th>\n",
       "      <td>According to the Finnish-Russian Chamber of Co...</td>\n",
       "      <td>neutral</td>\n",
       "      <td>128</td>\n",
       "      <td>according finnish russian chamber commerce maj...</td>\n",
       "    </tr>\n",
       "    <tr>\n",
       "      <th>4</th>\n",
       "      <td>The Swedish buyout firm has sold its remaining...</td>\n",
       "      <td>neutral</td>\n",
       "      <td>135</td>\n",
       "      <td>swedish buyout firm sold remaining 22 4 percen...</td>\n",
       "    </tr>\n",
       "    <tr>\n",
       "      <th>...</th>\n",
       "      <td>...</td>\n",
       "      <td>...</td>\n",
       "      <td>...</td>\n",
       "      <td>...</td>\n",
       "    </tr>\n",
       "    <tr>\n",
       "      <th>5837</th>\n",
       "      <td>RISING costs have forced packaging producer Hu...</td>\n",
       "      <td>negative</td>\n",
       "      <td>107</td>\n",
       "      <td>rising cost forced packaging producer huhtamak...</td>\n",
       "    </tr>\n",
       "    <tr>\n",
       "      <th>5838</th>\n",
       "      <td>Nordic Walking was first used as a summer trai...</td>\n",
       "      <td>neutral</td>\n",
       "      <td>83</td>\n",
       "      <td>nordic walking first used summer training meth...</td>\n",
       "    </tr>\n",
       "    <tr>\n",
       "      <th>5839</th>\n",
       "      <td>According shipping company Viking Line , the E...</td>\n",
       "      <td>neutral</td>\n",
       "      <td>99</td>\n",
       "      <td>according shipping company viking line eu deci...</td>\n",
       "    </tr>\n",
       "    <tr>\n",
       "      <th>5840</th>\n",
       "      <td>In the building and home improvement trade , s...</td>\n",
       "      <td>neutral</td>\n",
       "      <td>88</td>\n",
       "      <td>building home improvement trade sale decreased...</td>\n",
       "    </tr>\n",
       "    <tr>\n",
       "      <th>5841</th>\n",
       "      <td>HELSINKI AFX - KCI Konecranes said it has won ...</td>\n",
       "      <td>positive</td>\n",
       "      <td>145</td>\n",
       "      <td>helsinki afx kci konecranes said order four ho...</td>\n",
       "    </tr>\n",
       "  </tbody>\n",
       "</table>\n",
       "<p>5842 rows × 4 columns</p>\n",
       "</div>"
      ],
      "text/plain": [
       "                                               Sentence Sentiment  \\\n",
       "0     The GeoSolutions technology will leverage Bene...  positive   \n",
       "1     $ESI on lows, down $1.50 to $2.50 BK a real po...  negative   \n",
       "2     For the last quarter of 2010 , Componenta 's n...  positive   \n",
       "3     According to the Finnish-Russian Chamber of Co...   neutral   \n",
       "4     The Swedish buyout firm has sold its remaining...   neutral   \n",
       "...                                                 ...       ...   \n",
       "5837  RISING costs have forced packaging producer Hu...  negative   \n",
       "5838  Nordic Walking was first used as a summer trai...   neutral   \n",
       "5839  According shipping company Viking Line , the E...   neutral   \n",
       "5840  In the building and home improvement trade , s...   neutral   \n",
       "5841  HELSINKI AFX - KCI Konecranes said it has won ...  positive   \n",
       "\n",
       "      text_length                                       cleaned_text  \n",
       "0             218  geosolutions technology leverage benefon gps s...  \n",
       "1              55              esi low 1 50 2 50 bk real possibility  \n",
       "2             193  last quarter 2010 componenta net sale doubled ...  \n",
       "3             128  according finnish russian chamber commerce maj...  \n",
       "4             135  swedish buyout firm sold remaining 22 4 percen...  \n",
       "...           ...                                                ...  \n",
       "5837          107  rising cost forced packaging producer huhtamak...  \n",
       "5838           83  nordic walking first used summer training meth...  \n",
       "5839           99  according shipping company viking line eu deci...  \n",
       "5840           88  building home improvement trade sale decreased...  \n",
       "5841          145  helsinki afx kci konecranes said order four ho...  \n",
       "\n",
       "[5842 rows x 4 columns]"
      ]
     },
     "execution_count": 180,
     "metadata": {},
     "output_type": "execute_result"
    }
   ],
   "source": [
    "df['cleaned_text'] = df['Sentence'].apply(clean_text)\n",
    "df"
   ]
  },
  {
   "cell_type": "markdown",
   "id": "b8d2661d",
   "metadata": {},
   "source": [
    "## Word Frequency Analysis and Most Common words"
   ]
  },
  {
   "cell_type": "code",
   "execution_count": 184,
   "id": "6a9bbe66",
   "metadata": {},
   "outputs": [
    {
     "data": {
      "text/plain": [
       "[('eur', 1286),\n",
       " ('company', 917),\n",
       " ('mn', 729),\n",
       " ('sale', 609),\n",
       " ('1', 606),\n",
       " ('profit', 585),\n",
       " ('finnish', 539),\n",
       " ('year', 528),\n",
       " ('share', 521),\n",
       " ('said', 516),\n",
       " ('net', 500),\n",
       " ('million', 493),\n",
       " ('2', 470),\n",
       " ('3', 439),\n",
       " ('5', 425),\n",
       " ('4', 372),\n",
       " ('operating', 371),\n",
       " ('0', 362),\n",
       " ('2009', 358),\n",
       " ('mln', 351),\n",
       " ('2008', 350),\n",
       " ('quarter', 348),\n",
       " ('finland', 339),\n",
       " ('period', 338),\n",
       " ('group', 336),\n",
       " ('6', 326),\n",
       " ('market', 316),\n",
       " ('2007', 306),\n",
       " ('co', 294),\n",
       " ('7', 292)]"
      ]
     },
     "execution_count": 184,
     "metadata": {},
     "output_type": "execute_result"
    }
   ],
   "source": [
    "all_words = ' '.join(df['cleaned_text']).split()\n",
    "word_freq = Counter(all_words)\n",
    "common_words = word_freq.most_common(30)\n",
    "common_words"
   ]
  },
  {
   "cell_type": "code",
   "execution_count": 185,
   "id": "f263f962",
   "metadata": {},
   "outputs": [],
   "source": [
    "common_words_df = pd.DataFrame(common_words, columns=['Word', 'Frequency'])"
   ]
  },
  {
   "cell_type": "code",
   "execution_count": 186,
   "id": "61b375b0",
   "metadata": {},
   "outputs": [
    {
     "data": {
      "image/png": "[encoded data removed]",
      "text/plain": [
       "<Figure size 1080x720 with 1 Axes>"
      ]
     },
     "metadata": {
      "needs_background": "light"
     },
     "output_type": "display_data"
    },
    {
     "name": "stdout",
     "output_type": "stream",
     "text": [
      "Top 10 most common words:\n"
     ]
    },
    {
     "data": {
      "text/html": [
       "<div>\n",
       "<style scoped>\n",
       "    .dataframe tbody tr th:only-of-type {\n",
       "        vertical-align: middle;\n",
       "    }\n",
       "\n",
       "    .dataframe tbody tr th {\n",
       "        vertical-align: top;\n",
       "    }\n",
       "\n",
       "    .dataframe thead th {\n",
       "        text-align: right;\n",
       "    }\n",
       "</style>\n",
       "<table border=\"1\" class=\"dataframe\">\n",
       "  <thead>\n",
       "    <tr style=\"text-align: right;\">\n",
       "      <th></th>\n",
       "      <th>Word</th>\n",
       "      <th>Frequency</th>\n",
       "    </tr>\n",
       "  </thead>\n",
       "  <tbody>\n",
       "    <tr>\n",
       "      <th>0</th>\n",
       "      <td>eur</td>\n",
       "      <td>1286</td>\n",
       "    </tr>\n",
       "    <tr>\n",
       "      <th>1</th>\n",
       "      <td>company</td>\n",
       "      <td>917</td>\n",
       "    </tr>\n",
       "    <tr>\n",
       "      <th>2</th>\n",
       "      <td>mn</td>\n",
       "      <td>729</td>\n",
       "    </tr>\n",
       "    <tr>\n",
       "      <th>3</th>\n",
       "      <td>sale</td>\n",
       "      <td>609</td>\n",
       "    </tr>\n",
       "    <tr>\n",
       "      <th>4</th>\n",
       "      <td>1</td>\n",
       "      <td>606</td>\n",
       "    </tr>\n",
       "    <tr>\n",
       "      <th>5</th>\n",
       "      <td>profit</td>\n",
       "      <td>585</td>\n",
       "    </tr>\n",
       "    <tr>\n",
       "      <th>6</th>\n",
       "      <td>finnish</td>\n",
       "      <td>539</td>\n",
       "    </tr>\n",
       "    <tr>\n",
       "      <th>7</th>\n",
       "      <td>year</td>\n",
       "      <td>528</td>\n",
       "    </tr>\n",
       "    <tr>\n",
       "      <th>8</th>\n",
       "      <td>share</td>\n",
       "      <td>521</td>\n",
       "    </tr>\n",
       "    <tr>\n",
       "      <th>9</th>\n",
       "      <td>said</td>\n",
       "      <td>516</td>\n",
       "    </tr>\n",
       "    <tr>\n",
       "      <th>10</th>\n",
       "      <td>net</td>\n",
       "      <td>500</td>\n",
       "    </tr>\n",
       "    <tr>\n",
       "      <th>11</th>\n",
       "      <td>million</td>\n",
       "      <td>493</td>\n",
       "    </tr>\n",
       "    <tr>\n",
       "      <th>12</th>\n",
       "      <td>2</td>\n",
       "      <td>470</td>\n",
       "    </tr>\n",
       "    <tr>\n",
       "      <th>13</th>\n",
       "      <td>3</td>\n",
       "      <td>439</td>\n",
       "    </tr>\n",
       "    <tr>\n",
       "      <th>14</th>\n",
       "      <td>5</td>\n",
       "      <td>425</td>\n",
       "    </tr>\n",
       "  </tbody>\n",
       "</table>\n",
       "</div>"
      ],
      "text/plain": [
       "       Word  Frequency\n",
       "0       eur       1286\n",
       "1   company        917\n",
       "2        mn        729\n",
       "3      sale        609\n",
       "4         1        606\n",
       "5    profit        585\n",
       "6   finnish        539\n",
       "7      year        528\n",
       "8     share        521\n",
       "9      said        516\n",
       "10      net        500\n",
       "11  million        493\n",
       "12        2        470\n",
       "13        3        439\n",
       "14        5        425"
      ]
     },
     "execution_count": 186,
     "metadata": {},
     "output_type": "execute_result"
    }
   ],
   "source": [
    "plt.figure(figsize=(15, 10))\n",
    "sns.barplot(x='Frequency', y='Word', data=common_words_df, palette='Blues_r')\n",
    "plt.title('Most Common Words (after removing stopwords)')\n",
    "plt.xlabel('Frequency')\n",
    "plt.ylabel('Words')\n",
    "plt.show()\n",
    "\n",
    "print(\"Top 10 most common words:\")\n",
    "common_words_df[:15]"
   ]
  },
  {
   "cell_type": "markdown",
   "id": "27df39c7",
   "metadata": {},
   "source": [
    "## Word Length and Document Length analysis after text cleaning"
   ]
  },
  {
   "cell_type": "code",
   "execution_count": 187,
   "id": "228db84f",
   "metadata": {},
   "outputs": [
    {
     "data": {
      "image/png": "[encoded data removed]",
      "text/plain": [
       "<Figure size 720x432 with 1 Axes>"
      ]
     },
     "metadata": {
      "needs_background": "light"
     },
     "output_type": "display_data"
    },
    {
     "data": {
      "image/png": "[encoded data removed]",
      "text/plain": [
       "<Figure size 720x432 with 1 Axes>"
      ]
     },
     "metadata": {
      "needs_background": "light"
     },
     "output_type": "display_data"
    },
    {
     "name": "stdout",
     "output_type": "stream",
     "text": [
      "Average word length: 5.58 characters\n",
      "Average document length: 13.29 words\n"
     ]
    }
   ],
   "source": [
    "df['tokenized_text'] = df['cleaned_text'].apply(word_tokenize)\n",
    "\n",
    "df['word_lengths'] = df['tokenized_text'].apply(lambda x: [len(word) for word in x])\n",
    "\n",
    "all_word_lengths = [length for sublist in df['word_lengths'] for length in sublist]\n",
    "\n",
    "plt.figure(figsize=(10, 6))\n",
    "sns.histplot(all_word_lengths, bins=15, kde=True)\n",
    "plt.title('Distribution of Word Lengths (in characters) after text cleaning')\n",
    "plt.xlabel('Number of characters per word')\n",
    "plt.ylabel('Frequency')\n",
    "plt.show()\n",
    "\n",
    "df['document_length'] = df['tokenized_text'].apply(len)\n",
    "\n",
    "plt.figure(figsize=(10, 6))\n",
    "sns.histplot(df['document_length'], bins=30, kde=True)\n",
    "plt.title('Distribution of Document Lengths (in number of words) after text cleaning')\n",
    "plt.xlabel('Number of words per document')\n",
    "plt.ylabel('Frequency')\n",
    "plt.show()\n",
    "\n",
    "print(f'Average word length: {sum(all_word_lengths) / len(all_word_lengths):.2f} characters')\n",
    "print(f'Average document length: {df[\"document_length\"].mean():.2f} words')"
   ]
  },
  {
   "cell_type": "markdown",
   "id": "f52bac0d",
   "metadata": {},
   "source": [
    "## N-Gram Analysis"
   ]
  },
  {
   "cell_type": "code",
   "execution_count": 188,
   "id": "0d39c35e",
   "metadata": {},
   "outputs": [],
   "source": [
    "def get_ngrams(text, n):\n",
    "    tokens = word_tokenize(text)\n",
    "    n_grams = list(ngrams(tokens, n))\n",
    "    return n_grams"
   ]
  },
  {
   "cell_type": "code",
   "execution_count": 189,
   "id": "08383c26",
   "metadata": {},
   "outputs": [],
   "source": [
    "df['bigrams'] = df['cleaned_text'].apply(lambda x: get_ngrams(x, 2))"
   ]
  },
  {
   "cell_type": "code",
   "execution_count": 190,
   "id": "378ccfa2",
   "metadata": {},
   "outputs": [
    {
     "data": {
      "text/html": [
       "<div>\n",
       "<style scoped>\n",
       "    .dataframe tbody tr th:only-of-type {\n",
       "        vertical-align: middle;\n",
       "    }\n",
       "\n",
       "    .dataframe tbody tr th {\n",
       "        vertical-align: top;\n",
       "    }\n",
       "\n",
       "    .dataframe thead th {\n",
       "        text-align: right;\n",
       "    }\n",
       "</style>\n",
       "<table border=\"1\" class=\"dataframe\">\n",
       "  <thead>\n",
       "    <tr style=\"text-align: right;\">\n",
       "      <th></th>\n",
       "      <th>Sentence</th>\n",
       "      <th>Sentiment</th>\n",
       "      <th>text_length</th>\n",
       "      <th>cleaned_text</th>\n",
       "      <th>tokenized_text</th>\n",
       "      <th>word_lengths</th>\n",
       "      <th>document_length</th>\n",
       "      <th>bigrams</th>\n",
       "    </tr>\n",
       "  </thead>\n",
       "  <tbody>\n",
       "    <tr>\n",
       "      <th>0</th>\n",
       "      <td>The GeoSolutions technology will leverage Bene...</td>\n",
       "      <td>positive</td>\n",
       "      <td>218</td>\n",
       "      <td>geosolutions technology leverage benefon gps s...</td>\n",
       "      <td>[geosolutions, technology, leverage, benefon, ...</td>\n",
       "      <td>[12, 10, 8, 7, 3, 8, 9, 8, 5, 6, 10, 9, 8, 8, ...</td>\n",
       "      <td>21</td>\n",
       "      <td>[(geosolutions, technology), (technology, leve...</td>\n",
       "    </tr>\n",
       "    <tr>\n",
       "      <th>1</th>\n",
       "      <td>$ESI on lows, down $1.50 to $2.50 BK a real po...</td>\n",
       "      <td>negative</td>\n",
       "      <td>55</td>\n",
       "      <td>esi low 1 50 2 50 bk real possibility</td>\n",
       "      <td>[esi, low, 1, 50, 2, 50, bk, real, possibility]</td>\n",
       "      <td>[3, 3, 1, 2, 1, 2, 2, 4, 11]</td>\n",
       "      <td>9</td>\n",
       "      <td>[(esi, low), (low, 1), (1, 50), (50, 2), (2, 5...</td>\n",
       "    </tr>\n",
       "    <tr>\n",
       "      <th>2</th>\n",
       "      <td>For the last quarter of 2010 , Componenta 's n...</td>\n",
       "      <td>positive</td>\n",
       "      <td>193</td>\n",
       "      <td>last quarter 2010 componenta net sale doubled ...</td>\n",
       "      <td>[last, quarter, 2010, componenta, net, sale, d...</td>\n",
       "      <td>[4, 7, 4, 10, 3, 4, 7, 7, 6, 6, 4, 7, 5, 4, 3,...</td>\n",
       "      <td>21</td>\n",
       "      <td>[(last, quarter), (quarter, 2010), (2010, comp...</td>\n",
       "    </tr>\n",
       "    <tr>\n",
       "      <th>3</th>\n",
       "      <td>According to the Finnish-Russian Chamber of Co...</td>\n",
       "      <td>neutral</td>\n",
       "      <td>128</td>\n",
       "      <td>according finnish russian chamber commerce maj...</td>\n",
       "      <td>[according, finnish, russian, chamber, commerc...</td>\n",
       "      <td>[9, 7, 7, 7, 8, 5, 12, 7, 7, 9, 6]</td>\n",
       "      <td>11</td>\n",
       "      <td>[(according, finnish), (finnish, russian), (ru...</td>\n",
       "    </tr>\n",
       "    <tr>\n",
       "      <th>4</th>\n",
       "      <td>The Swedish buyout firm has sold its remaining...</td>\n",
       "      <td>neutral</td>\n",
       "      <td>135</td>\n",
       "      <td>swedish buyout firm sold remaining 22 4 percen...</td>\n",
       "      <td>[swedish, buyout, firm, sold, remaining, 22, 4...</td>\n",
       "      <td>[7, 6, 4, 4, 9, 2, 1, 7, 5, 6, 8, 5, 6, 7, 6, 7]</td>\n",
       "      <td>16</td>\n",
       "      <td>[(swedish, buyout), (buyout, firm), (firm, sol...</td>\n",
       "    </tr>\n",
       "    <tr>\n",
       "      <th>...</th>\n",
       "      <td>...</td>\n",
       "      <td>...</td>\n",
       "      <td>...</td>\n",
       "      <td>...</td>\n",
       "      <td>...</td>\n",
       "      <td>...</td>\n",
       "      <td>...</td>\n",
       "      <td>...</td>\n",
       "    </tr>\n",
       "    <tr>\n",
       "      <th>5837</th>\n",
       "      <td>RISING costs have forced packaging producer Hu...</td>\n",
       "      <td>negative</td>\n",
       "      <td>107</td>\n",
       "      <td>rising cost forced packaging producer huhtamak...</td>\n",
       "      <td>[rising, cost, forced, packaging, producer, hu...</td>\n",
       "      <td>[6, 4, 6, 9, 8, 9, 3, 2, 3, 9, 13, 5]</td>\n",
       "      <td>12</td>\n",
       "      <td>[(rising, cost), (cost, forced), (forced, pack...</td>\n",
       "    </tr>\n",
       "    <tr>\n",
       "      <th>5838</th>\n",
       "      <td>Nordic Walking was first used as a summer trai...</td>\n",
       "      <td>neutral</td>\n",
       "      <td>83</td>\n",
       "      <td>nordic walking first used summer training meth...</td>\n",
       "      <td>[nordic, walking, first, used, summer, trainin...</td>\n",
       "      <td>[6, 7, 5, 4, 6, 8, 6, 5, 7, 5]</td>\n",
       "      <td>10</td>\n",
       "      <td>[(nordic, walking), (walking, first), (first, ...</td>\n",
       "    </tr>\n",
       "    <tr>\n",
       "      <th>5839</th>\n",
       "      <td>According shipping company Viking Line , the E...</td>\n",
       "      <td>neutral</td>\n",
       "      <td>99</td>\n",
       "      <td>according shipping company viking line eu deci...</td>\n",
       "      <td>[according, shipping, company, viking, line, e...</td>\n",
       "      <td>[9, 8, 7, 6, 4, 2, 8, 11, 9, 6]</td>\n",
       "      <td>10</td>\n",
       "      <td>[(according, shipping), (shipping, company), (...</td>\n",
       "    </tr>\n",
       "    <tr>\n",
       "      <th>5840</th>\n",
       "      <td>In the building and home improvement trade , s...</td>\n",
       "      <td>neutral</td>\n",
       "      <td>88</td>\n",
       "      <td>building home improvement trade sale decreased...</td>\n",
       "      <td>[building, home, improvement, trade, sale, dec...</td>\n",
       "      <td>[8, 4, 11, 5, 4, 9, 2, 1, 3, 3, 1, 2]</td>\n",
       "      <td>12</td>\n",
       "      <td>[(building, home), (home, improvement), (impro...</td>\n",
       "    </tr>\n",
       "    <tr>\n",
       "      <th>5841</th>\n",
       "      <td>HELSINKI AFX - KCI Konecranes said it has won ...</td>\n",
       "      <td>positive</td>\n",
       "      <td>145</td>\n",
       "      <td>helsinki afx kci konecranes said order four ho...</td>\n",
       "      <td>[helsinki, afx, kci, konecranes, said, order, ...</td>\n",
       "      <td>[8, 3, 3, 10, 4, 5, 4, 3, 5, 5, 5, 6, 5, 8, 7,...</td>\n",
       "      <td>18</td>\n",
       "      <td>[(helsinki, afx), (afx, kci), (kci, konecranes...</td>\n",
       "    </tr>\n",
       "  </tbody>\n",
       "</table>\n",
       "<p>5842 rows × 8 columns</p>\n",
       "</div>"
      ],
      "text/plain": [
       "                                               Sentence Sentiment  \\\n",
       "0     The GeoSolutions technology will leverage Bene...  positive   \n",
       "1     $ESI on lows, down $1.50 to $2.50 BK a real po...  negative   \n",
       "2     For the last quarter of 2010 , Componenta 's n...  positive   \n",
       "3     According to the Finnish-Russian Chamber of Co...   neutral   \n",
       "4     The Swedish buyout firm has sold its remaining...   neutral   \n",
       "...                                                 ...       ...   \n",
       "5837  RISING costs have forced packaging producer Hu...  negative   \n",
       "5838  Nordic Walking was first used as a summer trai...   neutral   \n",
       "5839  According shipping company Viking Line , the E...   neutral   \n",
       "5840  In the building and home improvement trade , s...   neutral   \n",
       "5841  HELSINKI AFX - KCI Konecranes said it has won ...  positive   \n",
       "\n",
       "      text_length                                       cleaned_text  \\\n",
       "0             218  geosolutions technology leverage benefon gps s...   \n",
       "1              55              esi low 1 50 2 50 bk real possibility   \n",
       "2             193  last quarter 2010 componenta net sale doubled ...   \n",
       "3             128  according finnish russian chamber commerce maj...   \n",
       "4             135  swedish buyout firm sold remaining 22 4 percen...   \n",
       "...           ...                                                ...   \n",
       "5837          107  rising cost forced packaging producer huhtamak...   \n",
       "5838           83  nordic walking first used summer training meth...   \n",
       "5839           99  according shipping company viking line eu deci...   \n",
       "5840           88  building home improvement trade sale decreased...   \n",
       "5841          145  helsinki afx kci konecranes said order four ho...   \n",
       "\n",
       "                                         tokenized_text  \\\n",
       "0     [geosolutions, technology, leverage, benefon, ...   \n",
       "1       [esi, low, 1, 50, 2, 50, bk, real, possibility]   \n",
       "2     [last, quarter, 2010, componenta, net, sale, d...   \n",
       "3     [according, finnish, russian, chamber, commerc...   \n",
       "4     [swedish, buyout, firm, sold, remaining, 22, 4...   \n",
       "...                                                 ...   \n",
       "5837  [rising, cost, forced, packaging, producer, hu...   \n",
       "5838  [nordic, walking, first, used, summer, trainin...   \n",
       "5839  [according, shipping, company, viking, line, e...   \n",
       "5840  [building, home, improvement, trade, sale, dec...   \n",
       "5841  [helsinki, afx, kci, konecranes, said, order, ...   \n",
       "\n",
       "                                           word_lengths  document_length  \\\n",
       "0     [12, 10, 8, 7, 3, 8, 9, 8, 5, 6, 10, 9, 8, 8, ...               21   \n",
       "1                          [3, 3, 1, 2, 1, 2, 2, 4, 11]                9   \n",
       "2     [4, 7, 4, 10, 3, 4, 7, 7, 6, 6, 4, 7, 5, 4, 3,...               21   \n",
       "3                    [9, 7, 7, 7, 8, 5, 12, 7, 7, 9, 6]               11   \n",
       "4      [7, 6, 4, 4, 9, 2, 1, 7, 5, 6, 8, 5, 6, 7, 6, 7]               16   \n",
       "...                                                 ...              ...   \n",
       "5837              [6, 4, 6, 9, 8, 9, 3, 2, 3, 9, 13, 5]               12   \n",
       "5838                     [6, 7, 5, 4, 6, 8, 6, 5, 7, 5]               10   \n",
       "5839                    [9, 8, 7, 6, 4, 2, 8, 11, 9, 6]               10   \n",
       "5840              [8, 4, 11, 5, 4, 9, 2, 1, 3, 3, 1, 2]               12   \n",
       "5841  [8, 3, 3, 10, 4, 5, 4, 3, 5, 5, 5, 6, 5, 8, 7,...               18   \n",
       "\n",
       "                                                bigrams  \n",
       "0     [(geosolutions, technology), (technology, leve...  \n",
       "1     [(esi, low), (low, 1), (1, 50), (50, 2), (2, 5...  \n",
       "2     [(last, quarter), (quarter, 2010), (2010, comp...  \n",
       "3     [(according, finnish), (finnish, russian), (ru...  \n",
       "4     [(swedish, buyout), (buyout, firm), (firm, sol...  \n",
       "...                                                 ...  \n",
       "5837  [(rising, cost), (cost, forced), (forced, pack...  \n",
       "5838  [(nordic, walking), (walking, first), (first, ...  \n",
       "5839  [(according, shipping), (shipping, company), (...  \n",
       "5840  [(building, home), (home, improvement), (impro...  \n",
       "5841  [(helsinki, afx), (afx, kci), (kci, konecranes...  \n",
       "\n",
       "[5842 rows x 8 columns]"
      ]
     },
     "execution_count": 190,
     "metadata": {},
     "output_type": "execute_result"
    }
   ],
   "source": [
    "df"
   ]
  },
  {
   "cell_type": "code",
   "execution_count": 191,
   "id": "c8ed711f",
   "metadata": {},
   "outputs": [
    {
     "data": {
      "image/png": "[encoded data removed]",
      "text/plain": [
       "<Figure size 720x432 with 1 Axes>"
      ]
     },
     "metadata": {
      "needs_background": "light"
     },
     "output_type": "display_data"
    }
   ],
   "source": [
    "all_bigrams = [bigram for sublist in df['bigrams'] for bigram in sublist]\n",
    "bigram_freq = Counter(all_bigrams)\n",
    "common_bigrams = bigram_freq.most_common(20)\n",
    "bigram_df = pd.DataFrame(common_bigrams, columns=['Bigram', 'Frequency'])\n",
    "\n",
    "plt.figure(figsize=(10, 6))\n",
    "sns.barplot(x='Frequency', y=[f'{x[0]} {x[1]}' for x in bigram_df['Bigram']], data=bigram_df, palette='Blues_r')\n",
    "plt.title('Most Common Bigrams')\n",
    "plt.xlabel('Frequency')\n",
    "plt.ylabel('Bigram')\n",
    "plt.show()"
   ]
  },
  {
   "cell_type": "code",
   "execution_count": 192,
   "id": "7aa27155",
   "metadata": {},
   "outputs": [
    {
     "data": {
      "text/plain": [
       "0       [(geosolutions, technology, leverage), (techno...\n",
       "1       [(esi, low, 1), (low, 1, 50), (1, 50, 2), (50,...\n",
       "2       [(last, quarter, 2010), (quarter, 2010, compon...\n",
       "3       [(according, finnish, russian), (finnish, russ...\n",
       "4       [(swedish, buyout, firm), (buyout, firm, sold)...\n",
       "                              ...                        \n",
       "5837    [(rising, cost, forced), (cost, forced, packag...\n",
       "5838    [(nordic, walking, first), (walking, first, us...\n",
       "5839    [(according, shipping, company), (shipping, co...\n",
       "5840    [(building, home, improvement), (home, improve...\n",
       "5841    [(helsinki, afx, kci), (afx, kci, konecranes),...\n",
       "Name: trigrams, Length: 5842, dtype: object"
      ]
     },
     "execution_count": 192,
     "metadata": {},
     "output_type": "execute_result"
    }
   ],
   "source": [
    "df['trigrams'] = df['cleaned_text'].apply(lambda x: get_ngrams(x, 3))\n",
    "df['trigrams']"
   ]
  },
  {
   "cell_type": "code",
   "execution_count": 193,
   "id": "e2c8a54f",
   "metadata": {},
   "outputs": [
    {
     "data": {
      "image/png": "[encoded data removed]",
      "text/plain": [
       "<Figure size 720x432 with 1 Axes>"
      ]
     },
     "metadata": {
      "needs_background": "light"
     },
     "output_type": "display_data"
    }
   ],
   "source": [
    "all_trigrams = [trigram for sublist in df['trigrams'] for trigram in sublist]\n",
    "trigram_freq = Counter(all_trigrams)\n",
    "common_trigrams = trigram_freq.most_common(20)\n",
    "trigram_df = pd.DataFrame(common_trigrams, columns=['Trigram', 'Frequency'])\n",
    "\n",
    "plt.figure(figsize=(10, 6))\n",
    "sns.barplot(x='Frequency', y=[f'{x[0]} {x[1]} {x[2]}' for x in trigram_df['Trigram']], data=trigram_df, palette='Greens_r')\n",
    "plt.title('Most Common Trigrams')\n",
    "plt.xlabel('Frequency')\n",
    "plt.ylabel('Trigram')\n",
    "plt.show()"
   ]
  },
  {
   "cell_type": "code",
   "execution_count": 194,
   "id": "89dfb8dc",
   "metadata": {},
   "outputs": [
    {
     "name": "stdout",
     "output_type": "stream",
     "text": [
      "Top 5 Bigrams:\n"
     ]
    },
    {
     "data": {
      "text/html": [
       "<div>\n",
       "<style scoped>\n",
       "    .dataframe tbody tr th:only-of-type {\n",
       "        vertical-align: middle;\n",
       "    }\n",
       "\n",
       "    .dataframe tbody tr th {\n",
       "        vertical-align: top;\n",
       "    }\n",
       "\n",
       "    .dataframe thead th {\n",
       "        text-align: right;\n",
       "    }\n",
       "</style>\n",
       "<table border=\"1\" class=\"dataframe\">\n",
       "  <thead>\n",
       "    <tr style=\"text-align: right;\">\n",
       "      <th></th>\n",
       "      <th>Bigram</th>\n",
       "      <th>Frequency</th>\n",
       "    </tr>\n",
       "  </thead>\n",
       "  <tbody>\n",
       "    <tr>\n",
       "      <th>0</th>\n",
       "      <td>(net, sale)</td>\n",
       "      <td>276</td>\n",
       "    </tr>\n",
       "    <tr>\n",
       "      <th>1</th>\n",
       "      <td>(operating, profit)</td>\n",
       "      <td>241</td>\n",
       "    </tr>\n",
       "    <tr>\n",
       "      <th>2</th>\n",
       "      <td>(mn, eur)</td>\n",
       "      <td>177</td>\n",
       "    </tr>\n",
       "    <tr>\n",
       "      <th>3</th>\n",
       "      <td>(corresponding, period)</td>\n",
       "      <td>148</td>\n",
       "    </tr>\n",
       "    <tr>\n",
       "      <th>4</th>\n",
       "      <td>(mln, euro)</td>\n",
       "      <td>134</td>\n",
       "    </tr>\n",
       "  </tbody>\n",
       "</table>\n",
       "</div>"
      ],
      "text/plain": [
       "                    Bigram  Frequency\n",
       "0              (net, sale)        276\n",
       "1      (operating, profit)        241\n",
       "2                (mn, eur)        177\n",
       "3  (corresponding, period)        148\n",
       "4              (mln, euro)        134"
      ]
     },
     "execution_count": 194,
     "metadata": {},
     "output_type": "execute_result"
    }
   ],
   "source": [
    "print(\"Top 5 Bigrams:\")\n",
    "bigram_df[:5]"
   ]
  },
  {
   "cell_type": "code",
   "execution_count": 195,
   "id": "5e10748d",
   "metadata": {},
   "outputs": [
    {
     "name": "stdout",
     "output_type": "stream",
     "text": [
      "Top 5 Trigrams:\n"
     ]
    },
    {
     "data": {
      "text/html": [
       "<div>\n",
       "<style scoped>\n",
       "    .dataframe tbody tr th:only-of-type {\n",
       "        vertical-align: middle;\n",
       "    }\n",
       "\n",
       "    .dataframe tbody tr th {\n",
       "        vertical-align: top;\n",
       "    }\n",
       "\n",
       "    .dataframe thead th {\n",
       "        text-align: right;\n",
       "    }\n",
       "</style>\n",
       "<table border=\"1\" class=\"dataframe\">\n",
       "  <thead>\n",
       "    <tr style=\"text-align: right;\">\n",
       "      <th></th>\n",
       "      <th>Trigram</th>\n",
       "      <th>Frequency</th>\n",
       "    </tr>\n",
       "  </thead>\n",
       "  <tbody>\n",
       "    <tr>\n",
       "      <th>0</th>\n",
       "      <td>(http, stks, co)</td>\n",
       "      <td>132</td>\n",
       "    </tr>\n",
       "    <tr>\n",
       "      <th>1</th>\n",
       "      <td>(mn, corresponding, period)</td>\n",
       "      <td>77</td>\n",
       "    </tr>\n",
       "    <tr>\n",
       "      <th>2</th>\n",
       "      <td>(earnings, per, share)</td>\n",
       "      <td>44</td>\n",
       "    </tr>\n",
       "    <tr>\n",
       "      <th>3</th>\n",
       "      <td>(per, share, eps)</td>\n",
       "      <td>38</td>\n",
       "    </tr>\n",
       "    <tr>\n",
       "      <th>4</th>\n",
       "      <td>(net, sale, eur)</td>\n",
       "      <td>37</td>\n",
       "    </tr>\n",
       "  </tbody>\n",
       "</table>\n",
       "</div>"
      ],
      "text/plain": [
       "                       Trigram  Frequency\n",
       "0             (http, stks, co)        132\n",
       "1  (mn, corresponding, period)         77\n",
       "2       (earnings, per, share)         44\n",
       "3            (per, share, eps)         38\n",
       "4             (net, sale, eur)         37"
      ]
     },
     "execution_count": 195,
     "metadata": {},
     "output_type": "execute_result"
    }
   ],
   "source": [
    "print(\"Top 5 Trigrams:\")\n",
    "trigram_df[:5]"
   ]
  },
  {
   "cell_type": "markdown",
   "id": "ce8467af",
   "metadata": {},
   "source": [
    "## TF-IDF Analysis"
   ]
  },
  {
   "cell_type": "code",
   "execution_count": 196,
   "id": "eb305c04",
   "metadata": {},
   "outputs": [
    {
     "data": {
      "text/plain": [
       "<Compressed Sparse Row sparse matrix of dtype 'float64'\n",
       "\twith 65079 stored elements and shape (5842, 10184)>"
      ]
     },
     "execution_count": 196,
     "metadata": {},
     "output_type": "execute_result"
    }
   ],
   "source": [
    "from sklearn.feature_extraction.text import TfidfVectorizer\n",
    "\n",
    "tfidf_vectorizer = TfidfVectorizer(stop_words='english')\n",
    "\n",
    "tfidf_matrix = tfidf_vectorizer.fit_transform(df['cleaned_text'])\n",
    "\n",
    "tfidf_matrix"
   ]
  },
  {
   "cell_type": "code",
   "execution_count": 197,
   "id": "a49265a6",
   "metadata": {},
   "outputs": [
    {
     "data": {
      "text/plain": [
       "array(['00', '000', '000063', ..., 'ñskyl', 'óeur', 'úo'], dtype=object)"
      ]
     },
     "execution_count": 197,
     "metadata": {},
     "output_type": "execute_result"
    }
   ],
   "source": [
    "feature_names = tfidf_vectorizer.get_feature_names_out()\n",
    "feature_names"
   ]
  },
  {
   "cell_type": "code",
   "execution_count": 198,
   "id": "c484e3f5",
   "metadata": {},
   "outputs": [
    {
     "data": {
      "text/html": [
       "<div>\n",
       "<style scoped>\n",
       "    .dataframe tbody tr th:only-of-type {\n",
       "        vertical-align: middle;\n",
       "    }\n",
       "\n",
       "    .dataframe tbody tr th {\n",
       "        vertical-align: top;\n",
       "    }\n",
       "\n",
       "    .dataframe thead th {\n",
       "        text-align: right;\n",
       "    }\n",
       "</style>\n",
       "<table border=\"1\" class=\"dataframe\">\n",
       "  <thead>\n",
       "    <tr style=\"text-align: right;\">\n",
       "      <th></th>\n",
       "      <th>00</th>\n",
       "      <th>000</th>\n",
       "      <th>000063</th>\n",
       "      <th>002</th>\n",
       "      <th>0025</th>\n",
       "      <th>003</th>\n",
       "      <th>0030</th>\n",
       "      <th>007</th>\n",
       "      <th>008</th>\n",
       "      <th>01</th>\n",
       "      <th>...</th>\n",
       "      <th>ñnge</th>\n",
       "      <th>ñnnen</th>\n",
       "      <th>ñnsi</th>\n",
       "      <th>ñrnits</th>\n",
       "      <th>ñrtsil</th>\n",
       "      <th>ñrvi</th>\n",
       "      <th>ñrvinen</th>\n",
       "      <th>ñskyl</th>\n",
       "      <th>óeur</th>\n",
       "      <th>úo</th>\n",
       "    </tr>\n",
       "  </thead>\n",
       "  <tbody>\n",
       "    <tr>\n",
       "      <th>0</th>\n",
       "      <td>0.0</td>\n",
       "      <td>0.0</td>\n",
       "      <td>0.0</td>\n",
       "      <td>0.0</td>\n",
       "      <td>0.0</td>\n",
       "      <td>0.0</td>\n",
       "      <td>0.0</td>\n",
       "      <td>0.0</td>\n",
       "      <td>0.0</td>\n",
       "      <td>0.0</td>\n",
       "      <td>...</td>\n",
       "      <td>0.0</td>\n",
       "      <td>0.0</td>\n",
       "      <td>0.0</td>\n",
       "      <td>0.0</td>\n",
       "      <td>0.0</td>\n",
       "      <td>0.0</td>\n",
       "      <td>0.0</td>\n",
       "      <td>0.0</td>\n",
       "      <td>0.0</td>\n",
       "      <td>0.0</td>\n",
       "    </tr>\n",
       "    <tr>\n",
       "      <th>1</th>\n",
       "      <td>0.0</td>\n",
       "      <td>0.0</td>\n",
       "      <td>0.0</td>\n",
       "      <td>0.0</td>\n",
       "      <td>0.0</td>\n",
       "      <td>0.0</td>\n",
       "      <td>0.0</td>\n",
       "      <td>0.0</td>\n",
       "      <td>0.0</td>\n",
       "      <td>0.0</td>\n",
       "      <td>...</td>\n",
       "      <td>0.0</td>\n",
       "      <td>0.0</td>\n",
       "      <td>0.0</td>\n",
       "      <td>0.0</td>\n",
       "      <td>0.0</td>\n",
       "      <td>0.0</td>\n",
       "      <td>0.0</td>\n",
       "      <td>0.0</td>\n",
       "      <td>0.0</td>\n",
       "      <td>0.0</td>\n",
       "    </tr>\n",
       "    <tr>\n",
       "      <th>2</th>\n",
       "      <td>0.0</td>\n",
       "      <td>0.0</td>\n",
       "      <td>0.0</td>\n",
       "      <td>0.0</td>\n",
       "      <td>0.0</td>\n",
       "      <td>0.0</td>\n",
       "      <td>0.0</td>\n",
       "      <td>0.0</td>\n",
       "      <td>0.0</td>\n",
       "      <td>0.0</td>\n",
       "      <td>...</td>\n",
       "      <td>0.0</td>\n",
       "      <td>0.0</td>\n",
       "      <td>0.0</td>\n",
       "      <td>0.0</td>\n",
       "      <td>0.0</td>\n",
       "      <td>0.0</td>\n",
       "      <td>0.0</td>\n",
       "      <td>0.0</td>\n",
       "      <td>0.0</td>\n",
       "      <td>0.0</td>\n",
       "    </tr>\n",
       "    <tr>\n",
       "      <th>3</th>\n",
       "      <td>0.0</td>\n",
       "      <td>0.0</td>\n",
       "      <td>0.0</td>\n",
       "      <td>0.0</td>\n",
       "      <td>0.0</td>\n",
       "      <td>0.0</td>\n",
       "      <td>0.0</td>\n",
       "      <td>0.0</td>\n",
       "      <td>0.0</td>\n",
       "      <td>0.0</td>\n",
       "      <td>...</td>\n",
       "      <td>0.0</td>\n",
       "      <td>0.0</td>\n",
       "      <td>0.0</td>\n",
       "      <td>0.0</td>\n",
       "      <td>0.0</td>\n",
       "      <td>0.0</td>\n",
       "      <td>0.0</td>\n",
       "      <td>0.0</td>\n",
       "      <td>0.0</td>\n",
       "      <td>0.0</td>\n",
       "    </tr>\n",
       "    <tr>\n",
       "      <th>4</th>\n",
       "      <td>0.0</td>\n",
       "      <td>0.0</td>\n",
       "      <td>0.0</td>\n",
       "      <td>0.0</td>\n",
       "      <td>0.0</td>\n",
       "      <td>0.0</td>\n",
       "      <td>0.0</td>\n",
       "      <td>0.0</td>\n",
       "      <td>0.0</td>\n",
       "      <td>0.0</td>\n",
       "      <td>...</td>\n",
       "      <td>0.0</td>\n",
       "      <td>0.0</td>\n",
       "      <td>0.0</td>\n",
       "      <td>0.0</td>\n",
       "      <td>0.0</td>\n",
       "      <td>0.0</td>\n",
       "      <td>0.0</td>\n",
       "      <td>0.0</td>\n",
       "      <td>0.0</td>\n",
       "      <td>0.0</td>\n",
       "    </tr>\n",
       "    <tr>\n",
       "      <th>...</th>\n",
       "      <td>...</td>\n",
       "      <td>...</td>\n",
       "      <td>...</td>\n",
       "      <td>...</td>\n",
       "      <td>...</td>\n",
       "      <td>...</td>\n",
       "      <td>...</td>\n",
       "      <td>...</td>\n",
       "      <td>...</td>\n",
       "      <td>...</td>\n",
       "      <td>...</td>\n",
       "      <td>...</td>\n",
       "      <td>...</td>\n",
       "      <td>...</td>\n",
       "      <td>...</td>\n",
       "      <td>...</td>\n",
       "      <td>...</td>\n",
       "      <td>...</td>\n",
       "      <td>...</td>\n",
       "      <td>...</td>\n",
       "      <td>...</td>\n",
       "    </tr>\n",
       "    <tr>\n",
       "      <th>5837</th>\n",
       "      <td>0.0</td>\n",
       "      <td>0.0</td>\n",
       "      <td>0.0</td>\n",
       "      <td>0.0</td>\n",
       "      <td>0.0</td>\n",
       "      <td>0.0</td>\n",
       "      <td>0.0</td>\n",
       "      <td>0.0</td>\n",
       "      <td>0.0</td>\n",
       "      <td>0.0</td>\n",
       "      <td>...</td>\n",
       "      <td>0.0</td>\n",
       "      <td>0.0</td>\n",
       "      <td>0.0</td>\n",
       "      <td>0.0</td>\n",
       "      <td>0.0</td>\n",
       "      <td>0.0</td>\n",
       "      <td>0.0</td>\n",
       "      <td>0.0</td>\n",
       "      <td>0.0</td>\n",
       "      <td>0.0</td>\n",
       "    </tr>\n",
       "    <tr>\n",
       "      <th>5838</th>\n",
       "      <td>0.0</td>\n",
       "      <td>0.0</td>\n",
       "      <td>0.0</td>\n",
       "      <td>0.0</td>\n",
       "      <td>0.0</td>\n",
       "      <td>0.0</td>\n",
       "      <td>0.0</td>\n",
       "      <td>0.0</td>\n",
       "      <td>0.0</td>\n",
       "      <td>0.0</td>\n",
       "      <td>...</td>\n",
       "      <td>0.0</td>\n",
       "      <td>0.0</td>\n",
       "      <td>0.0</td>\n",
       "      <td>0.0</td>\n",
       "      <td>0.0</td>\n",
       "      <td>0.0</td>\n",
       "      <td>0.0</td>\n",
       "      <td>0.0</td>\n",
       "      <td>0.0</td>\n",
       "      <td>0.0</td>\n",
       "    </tr>\n",
       "    <tr>\n",
       "      <th>5839</th>\n",
       "      <td>0.0</td>\n",
       "      <td>0.0</td>\n",
       "      <td>0.0</td>\n",
       "      <td>0.0</td>\n",
       "      <td>0.0</td>\n",
       "      <td>0.0</td>\n",
       "      <td>0.0</td>\n",
       "      <td>0.0</td>\n",
       "      <td>0.0</td>\n",
       "      <td>0.0</td>\n",
       "      <td>...</td>\n",
       "      <td>0.0</td>\n",
       "      <td>0.0</td>\n",
       "      <td>0.0</td>\n",
       "      <td>0.0</td>\n",
       "      <td>0.0</td>\n",
       "      <td>0.0</td>\n",
       "      <td>0.0</td>\n",
       "      <td>0.0</td>\n",
       "      <td>0.0</td>\n",
       "      <td>0.0</td>\n",
       "    </tr>\n",
       "    <tr>\n",
       "      <th>5840</th>\n",
       "      <td>0.0</td>\n",
       "      <td>0.0</td>\n",
       "      <td>0.0</td>\n",
       "      <td>0.0</td>\n",
       "      <td>0.0</td>\n",
       "      <td>0.0</td>\n",
       "      <td>0.0</td>\n",
       "      <td>0.0</td>\n",
       "      <td>0.0</td>\n",
       "      <td>0.0</td>\n",
       "      <td>...</td>\n",
       "      <td>0.0</td>\n",
       "      <td>0.0</td>\n",
       "      <td>0.0</td>\n",
       "      <td>0.0</td>\n",
       "      <td>0.0</td>\n",
       "      <td>0.0</td>\n",
       "      <td>0.0</td>\n",
       "      <td>0.0</td>\n",
       "      <td>0.0</td>\n",
       "      <td>0.0</td>\n",
       "    </tr>\n",
       "    <tr>\n",
       "      <th>5841</th>\n",
       "      <td>0.0</td>\n",
       "      <td>0.0</td>\n",
       "      <td>0.0</td>\n",
       "      <td>0.0</td>\n",
       "      <td>0.0</td>\n",
       "      <td>0.0</td>\n",
       "      <td>0.0</td>\n",
       "      <td>0.0</td>\n",
       "      <td>0.0</td>\n",
       "      <td>0.0</td>\n",
       "      <td>...</td>\n",
       "      <td>0.0</td>\n",
       "      <td>0.0</td>\n",
       "      <td>0.0</td>\n",
       "      <td>0.0</td>\n",
       "      <td>0.0</td>\n",
       "      <td>0.0</td>\n",
       "      <td>0.0</td>\n",
       "      <td>0.0</td>\n",
       "      <td>0.0</td>\n",
       "      <td>0.0</td>\n",
       "    </tr>\n",
       "  </tbody>\n",
       "</table>\n",
       "<p>5842 rows × 10184 columns</p>\n",
       "</div>"
      ],
      "text/plain": [
       "       00  000  000063  002  0025  003  0030  007  008   01  ...  ñnge  ñnnen  \\\n",
       "0     0.0  0.0     0.0  0.0   0.0  0.0   0.0  0.0  0.0  0.0  ...   0.0    0.0   \n",
       "1     0.0  0.0     0.0  0.0   0.0  0.0   0.0  0.0  0.0  0.0  ...   0.0    0.0   \n",
       "2     0.0  0.0     0.0  0.0   0.0  0.0   0.0  0.0  0.0  0.0  ...   0.0    0.0   \n",
       "3     0.0  0.0     0.0  0.0   0.0  0.0   0.0  0.0  0.0  0.0  ...   0.0    0.0   \n",
       "4     0.0  0.0     0.0  0.0   0.0  0.0   0.0  0.0  0.0  0.0  ...   0.0    0.0   \n",
       "...   ...  ...     ...  ...   ...  ...   ...  ...  ...  ...  ...   ...    ...   \n",
       "5837  0.0  0.0     0.0  0.0   0.0  0.0   0.0  0.0  0.0  0.0  ...   0.0    0.0   \n",
       "5838  0.0  0.0     0.0  0.0   0.0  0.0   0.0  0.0  0.0  0.0  ...   0.0    0.0   \n",
       "5839  0.0  0.0     0.0  0.0   0.0  0.0   0.0  0.0  0.0  0.0  ...   0.0    0.0   \n",
       "5840  0.0  0.0     0.0  0.0   0.0  0.0   0.0  0.0  0.0  0.0  ...   0.0    0.0   \n",
       "5841  0.0  0.0     0.0  0.0   0.0  0.0   0.0  0.0  0.0  0.0  ...   0.0    0.0   \n",
       "\n",
       "      ñnsi  ñrnits  ñrtsil  ñrvi  ñrvinen  ñskyl  óeur   úo  \n",
       "0      0.0     0.0     0.0   0.0      0.0    0.0   0.0  0.0  \n",
       "1      0.0     0.0     0.0   0.0      0.0    0.0   0.0  0.0  \n",
       "2      0.0     0.0     0.0   0.0      0.0    0.0   0.0  0.0  \n",
       "3      0.0     0.0     0.0   0.0      0.0    0.0   0.0  0.0  \n",
       "4      0.0     0.0     0.0   0.0      0.0    0.0   0.0  0.0  \n",
       "...    ...     ...     ...   ...      ...    ...   ...  ...  \n",
       "5837   0.0     0.0     0.0   0.0      0.0    0.0   0.0  0.0  \n",
       "5838   0.0     0.0     0.0   0.0      0.0    0.0   0.0  0.0  \n",
       "5839   0.0     0.0     0.0   0.0      0.0    0.0   0.0  0.0  \n",
       "5840   0.0     0.0     0.0   0.0      0.0    0.0   0.0  0.0  \n",
       "5841   0.0     0.0     0.0   0.0      0.0    0.0   0.0  0.0  \n",
       "\n",
       "[5842 rows x 10184 columns]"
      ]
     },
     "execution_count": 198,
     "metadata": {},
     "output_type": "execute_result"
    }
   ],
   "source": [
    "tfidf_df = pd.DataFrame(tfidf_matrix.toarray(), columns=feature_names)\n",
    "tfidf_df"
   ]
  },
  {
   "cell_type": "code",
   "execution_count": 199,
   "id": "20bd7ffa",
   "metadata": {},
   "outputs": [
    {
     "data": {
      "text/plain": [
       "00         0.001276\n",
       "000        0.007255\n",
       "000063     0.000053\n",
       "002        0.000063\n",
       "0025       0.000047\n",
       "             ...   \n",
       "ñrvi       0.000337\n",
       "ñrvinen    0.000090\n",
       "ñskyl      0.000047\n",
       "óeur       0.000056\n",
       "úo         0.000048\n",
       "Length: 10184, dtype: float64"
      ]
     },
     "execution_count": 199,
     "metadata": {},
     "output_type": "execute_result"
    }
   ],
   "source": [
    "avg_tfidf_scores = tfidf_df.mean(axis=0)\n",
    "avg_tfidf_scores"
   ]
  },
  {
   "cell_type": "code",
   "execution_count": 200,
   "id": "f8479ef3",
   "metadata": {},
   "outputs": [
    {
     "data": {
      "text/html": [
       "<div>\n",
       "<style scoped>\n",
       "    .dataframe tbody tr th:only-of-type {\n",
       "        vertical-align: middle;\n",
       "    }\n",
       "\n",
       "    .dataframe tbody tr th {\n",
       "        vertical-align: top;\n",
       "    }\n",
       "\n",
       "    .dataframe thead th {\n",
       "        text-align: right;\n",
       "    }\n",
       "</style>\n",
       "<table border=\"1\" class=\"dataframe\">\n",
       "  <thead>\n",
       "    <tr style=\"text-align: right;\">\n",
       "      <th></th>\n",
       "      <th>Average_TFIDF</th>\n",
       "    </tr>\n",
       "  </thead>\n",
       "  <tbody>\n",
       "    <tr>\n",
       "      <th>eur</th>\n",
       "      <td>0.035411</td>\n",
       "    </tr>\n",
       "    <tr>\n",
       "      <th>mn</th>\n",
       "      <td>0.026038</td>\n",
       "    </tr>\n",
       "    <tr>\n",
       "      <th>company</th>\n",
       "      <td>0.020545</td>\n",
       "    </tr>\n",
       "    <tr>\n",
       "      <th>sale</th>\n",
       "      <td>0.017770</td>\n",
       "    </tr>\n",
       "    <tr>\n",
       "      <th>profit</th>\n",
       "      <td>0.017555</td>\n",
       "    </tr>\n",
       "    <tr>\n",
       "      <th>...</th>\n",
       "      <td>...</td>\n",
       "    </tr>\n",
       "    <tr>\n",
       "      <th>n96</th>\n",
       "      <td>0.000024</td>\n",
       "    </tr>\n",
       "    <tr>\n",
       "      <th>6110</th>\n",
       "      <td>0.000024</td>\n",
       "    </tr>\n",
       "    <tr>\n",
       "      <th>5700</th>\n",
       "      <td>0.000024</td>\n",
       "    </tr>\n",
       "    <tr>\n",
       "      <th>e62</th>\n",
       "      <td>0.000024</td>\n",
       "    </tr>\n",
       "    <tr>\n",
       "      <th>e65</th>\n",
       "      <td>0.000024</td>\n",
       "    </tr>\n",
       "  </tbody>\n",
       "</table>\n",
       "<p>10184 rows × 1 columns</p>\n",
       "</div>"
      ],
      "text/plain": [
       "         Average_TFIDF\n",
       "eur           0.035411\n",
       "mn            0.026038\n",
       "company       0.020545\n",
       "sale          0.017770\n",
       "profit        0.017555\n",
       "...                ...\n",
       "n96           0.000024\n",
       "6110          0.000024\n",
       "5700          0.000024\n",
       "e62           0.000024\n",
       "e65           0.000024\n",
       "\n",
       "[10184 rows x 1 columns]"
      ]
     },
     "execution_count": 200,
     "metadata": {},
     "output_type": "execute_result"
    }
   ],
   "source": [
    "tfidf_scores_df = pd.DataFrame(avg_tfidf_scores, index=feature_names, columns=['Average_TFIDF'])\n",
    "tfidf_scores_df = tfidf_scores_df.sort_values(by='Average_TFIDF', ascending=False)\n",
    "tfidf_scores_df"
   ]
  },
  {
   "cell_type": "code",
   "execution_count": 201,
   "id": "fb91dccf",
   "metadata": {},
   "outputs": [
    {
     "data": {
      "image/png": "[encoded data removed]",
      "text/plain": [
       "<Figure size 864x576 with 1 Axes>"
      ]
     },
     "metadata": {
      "needs_background": "light"
     },
     "output_type": "display_data"
    },
    {
     "name": "stdout",
     "output_type": "stream",
     "text": [
      "Top 10 Words by TF-IDF Score:\n",
      "           Average_TFIDF\n",
      "eur             0.035411\n",
      "mn              0.026038\n",
      "company         0.020545\n",
      "sale            0.017770\n",
      "profit          0.017555\n",
      "year            0.015576\n",
      "million         0.015110\n",
      "share           0.014806\n",
      "net             0.014584\n",
      "operating       0.013411\n"
     ]
    }
   ],
   "source": [
    "plt.figure(figsize=(12, 8))\n",
    "sns.barplot(x='Average_TFIDF', y=tfidf_scores_df.head(20).index, data=tfidf_scores_df.head(20), palette='Purples_r')\n",
    "plt.title('Top 20 Words by TF-IDF Score')\n",
    "plt.xlabel('Average TF-IDF Score')\n",
    "plt.ylabel('Words')\n",
    "plt.show()\n",
    "\n",
    "print(\"Top 10 Words by TF-IDF Score:\")\n",
    "print(tfidf_scores_df.head(10))"
   ]
  },
  {
   "cell_type": "code",
   "execution_count": 202,
   "id": "83d0755c",
   "metadata": {},
   "outputs": [
    {
     "data": {
      "text/plain": [
       "Index(['Sentence', 'Sentiment', 'text_length', 'cleaned_text',\n",
       "       'tokenized_text', 'word_lengths', 'document_length', 'bigrams',\n",
       "       'trigrams'],\n",
       "      dtype='object')"
      ]
     },
     "execution_count": 202,
     "metadata": {},
     "output_type": "execute_result"
    }
   ],
   "source": [
    "df.columns"
   ]
  },
  {
   "cell_type": "code",
   "execution_count": 203,
   "id": "e31fb1da",
   "metadata": {},
   "outputs": [
    {
     "data": {
      "image/png": "[encoded data removed]",
      "text/plain": [
       "<Figure size 720x432 with 1 Axes>"
      ]
     },
     "metadata": {
      "needs_background": "light"
     },
     "output_type": "display_data"
    }
   ],
   "source": [
    "plt.figure(figsize=(10, 6))\n",
    "sns.boxplot(x='Sentiment', y='text_length', data=df, palette='Set2')\n",
    "plt.title('Text Length by Sentiment before cleaning text')\n",
    "plt.xlabel('Sentiment')\n",
    "plt.ylabel('Text Length')\n",
    "plt.show()"
   ]
  },
  {
   "cell_type": "code",
   "execution_count": 204,
   "id": "6de757c9",
   "metadata": {},
   "outputs": [
    {
     "name": "stderr",
     "output_type": "stream",
     "text": [
      "C:\\Python310\\lib\\site-packages\\numpy\\core\\fromnumeric.py:3464: RuntimeWarning: Mean of empty slice.\n",
      "  return _methods._mean(a, axis=axis, dtype=dtype,\n"
     ]
    },
    {
     "data": {
      "text/html": [
       "<div>\n",
       "<style scoped>\n",
       "    .dataframe tbody tr th:only-of-type {\n",
       "        vertical-align: middle;\n",
       "    }\n",
       "\n",
       "    .dataframe tbody tr th {\n",
       "        vertical-align: top;\n",
       "    }\n",
       "\n",
       "    .dataframe thead th {\n",
       "        text-align: right;\n",
       "    }\n",
       "</style>\n",
       "<table border=\"1\" class=\"dataframe\">\n",
       "  <thead>\n",
       "    <tr style=\"text-align: right;\">\n",
       "      <th></th>\n",
       "      <th>Sentence</th>\n",
       "      <th>Sentiment</th>\n",
       "      <th>text_length</th>\n",
       "      <th>cleaned_text</th>\n",
       "      <th>tokenized_text</th>\n",
       "      <th>word_lengths</th>\n",
       "      <th>document_length</th>\n",
       "      <th>bigrams</th>\n",
       "      <th>trigrams</th>\n",
       "      <th>avg_word_length</th>\n",
       "    </tr>\n",
       "  </thead>\n",
       "  <tbody>\n",
       "    <tr>\n",
       "      <th>0</th>\n",
       "      <td>The GeoSolutions technology will leverage Bene...</td>\n",
       "      <td>positive</td>\n",
       "      <td>218</td>\n",
       "      <td>geosolutions technology leverage benefon gps s...</td>\n",
       "      <td>[geosolutions, technology, leverage, benefon, ...</td>\n",
       "      <td>[12, 10, 8, 7, 3, 8, 9, 8, 5, 6, 10, 9, 8, 8, ...</td>\n",
       "      <td>21</td>\n",
       "      <td>[(geosolutions, technology), (technology, leve...</td>\n",
       "      <td>[(geosolutions, technology, leverage), (techno...</td>\n",
       "      <td>7.714286</td>\n",
       "    </tr>\n",
       "    <tr>\n",
       "      <th>1</th>\n",
       "      <td>$ESI on lows, down $1.50 to $2.50 BK a real po...</td>\n",
       "      <td>negative</td>\n",
       "      <td>55</td>\n",
       "      <td>esi low 1 50 2 50 bk real possibility</td>\n",
       "      <td>[esi, low, 1, 50, 2, 50, bk, real, possibility]</td>\n",
       "      <td>[3, 3, 1, 2, 1, 2, 2, 4, 11]</td>\n",
       "      <td>9</td>\n",
       "      <td>[(esi, low), (low, 1), (1, 50), (50, 2), (2, 5...</td>\n",
       "      <td>[(esi, low, 1), (low, 1, 50), (1, 50, 2), (50,...</td>\n",
       "      <td>3.222222</td>\n",
       "    </tr>\n",
       "    <tr>\n",
       "      <th>2</th>\n",
       "      <td>For the last quarter of 2010 , Componenta 's n...</td>\n",
       "      <td>positive</td>\n",
       "      <td>193</td>\n",
       "      <td>last quarter 2010 componenta net sale doubled ...</td>\n",
       "      <td>[last, quarter, 2010, componenta, net, sale, d...</td>\n",
       "      <td>[4, 7, 4, 10, 3, 4, 7, 7, 6, 6, 4, 7, 5, 4, 3,...</td>\n",
       "      <td>21</td>\n",
       "      <td>[(last, quarter), (quarter, 2010), (2010, comp...</td>\n",
       "      <td>[(last, quarter, 2010), (quarter, 2010, compon...</td>\n",
       "      <td>5.000000</td>\n",
       "    </tr>\n",
       "    <tr>\n",
       "      <th>3</th>\n",
       "      <td>According to the Finnish-Russian Chamber of Co...</td>\n",
       "      <td>neutral</td>\n",
       "      <td>128</td>\n",
       "      <td>according finnish russian chamber commerce maj...</td>\n",
       "      <td>[according, finnish, russian, chamber, commerc...</td>\n",
       "      <td>[9, 7, 7, 7, 8, 5, 12, 7, 7, 9, 6]</td>\n",
       "      <td>11</td>\n",
       "      <td>[(according, finnish), (finnish, russian), (ru...</td>\n",
       "      <td>[(according, finnish, russian), (finnish, russ...</td>\n",
       "      <td>7.636364</td>\n",
       "    </tr>\n",
       "    <tr>\n",
       "      <th>4</th>\n",
       "      <td>The Swedish buyout firm has sold its remaining...</td>\n",
       "      <td>neutral</td>\n",
       "      <td>135</td>\n",
       "      <td>swedish buyout firm sold remaining 22 4 percen...</td>\n",
       "      <td>[swedish, buyout, firm, sold, remaining, 22, 4...</td>\n",
       "      <td>[7, 6, 4, 4, 9, 2, 1, 7, 5, 6, 8, 5, 6, 7, 6, 7]</td>\n",
       "      <td>16</td>\n",
       "      <td>[(swedish, buyout), (buyout, firm), (firm, sol...</td>\n",
       "      <td>[(swedish, buyout, firm), (buyout, firm, sold)...</td>\n",
       "      <td>5.625000</td>\n",
       "    </tr>\n",
       "    <tr>\n",
       "      <th>...</th>\n",
       "      <td>...</td>\n",
       "      <td>...</td>\n",
       "      <td>...</td>\n",
       "      <td>...</td>\n",
       "      <td>...</td>\n",
       "      <td>...</td>\n",
       "      <td>...</td>\n",
       "      <td>...</td>\n",
       "      <td>...</td>\n",
       "      <td>...</td>\n",
       "    </tr>\n",
       "    <tr>\n",
       "      <th>5837</th>\n",
       "      <td>RISING costs have forced packaging producer Hu...</td>\n",
       "      <td>negative</td>\n",
       "      <td>107</td>\n",
       "      <td>rising cost forced packaging producer huhtamak...</td>\n",
       "      <td>[rising, cost, forced, packaging, producer, hu...</td>\n",
       "      <td>[6, 4, 6, 9, 8, 9, 3, 2, 3, 9, 13, 5]</td>\n",
       "      <td>12</td>\n",
       "      <td>[(rising, cost), (cost, forced), (forced, pack...</td>\n",
       "      <td>[(rising, cost, forced), (cost, forced, packag...</td>\n",
       "      <td>6.416667</td>\n",
       "    </tr>\n",
       "    <tr>\n",
       "      <th>5838</th>\n",
       "      <td>Nordic Walking was first used as a summer trai...</td>\n",
       "      <td>neutral</td>\n",
       "      <td>83</td>\n",
       "      <td>nordic walking first used summer training meth...</td>\n",
       "      <td>[nordic, walking, first, used, summer, trainin...</td>\n",
       "      <td>[6, 7, 5, 4, 6, 8, 6, 5, 7, 5]</td>\n",
       "      <td>10</td>\n",
       "      <td>[(nordic, walking), (walking, first), (first, ...</td>\n",
       "      <td>[(nordic, walking, first), (walking, first, us...</td>\n",
       "      <td>5.900000</td>\n",
       "    </tr>\n",
       "    <tr>\n",
       "      <th>5839</th>\n",
       "      <td>According shipping company Viking Line , the E...</td>\n",
       "      <td>neutral</td>\n",
       "      <td>99</td>\n",
       "      <td>according shipping company viking line eu deci...</td>\n",
       "      <td>[according, shipping, company, viking, line, e...</td>\n",
       "      <td>[9, 8, 7, 6, 4, 2, 8, 11, 9, 6]</td>\n",
       "      <td>10</td>\n",
       "      <td>[(according, shipping), (shipping, company), (...</td>\n",
       "      <td>[(according, shipping, company), (shipping, co...</td>\n",
       "      <td>7.000000</td>\n",
       "    </tr>\n",
       "    <tr>\n",
       "      <th>5840</th>\n",
       "      <td>In the building and home improvement trade , s...</td>\n",
       "      <td>neutral</td>\n",
       "      <td>88</td>\n",
       "      <td>building home improvement trade sale decreased...</td>\n",
       "      <td>[building, home, improvement, trade, sale, dec...</td>\n",
       "      <td>[8, 4, 11, 5, 4, 9, 2, 1, 3, 3, 1, 2]</td>\n",
       "      <td>12</td>\n",
       "      <td>[(building, home), (home, improvement), (impro...</td>\n",
       "      <td>[(building, home, improvement), (home, improve...</td>\n",
       "      <td>4.416667</td>\n",
       "    </tr>\n",
       "    <tr>\n",
       "      <th>5841</th>\n",
       "      <td>HELSINKI AFX - KCI Konecranes said it has won ...</td>\n",
       "      <td>positive</td>\n",
       "      <td>145</td>\n",
       "      <td>helsinki afx kci konecranes said order four ho...</td>\n",
       "      <td>[helsinki, afx, kci, konecranes, said, order, ...</td>\n",
       "      <td>[8, 3, 3, 10, 4, 5, 4, 3, 5, 5, 5, 6, 5, 8, 7,...</td>\n",
       "      <td>18</td>\n",
       "      <td>[(helsinki, afx), (afx, kci), (kci, konecranes...</td>\n",
       "      <td>[(helsinki, afx, kci), (afx, kci, konecranes),...</td>\n",
       "      <td>5.222222</td>\n",
       "    </tr>\n",
       "  </tbody>\n",
       "</table>\n",
       "<p>5842 rows × 10 columns</p>\n",
       "</div>"
      ],
      "text/plain": [
       "                                               Sentence Sentiment  \\\n",
       "0     The GeoSolutions technology will leverage Bene...  positive   \n",
       "1     $ESI on lows, down $1.50 to $2.50 BK a real po...  negative   \n",
       "2     For the last quarter of 2010 , Componenta 's n...  positive   \n",
       "3     According to the Finnish-Russian Chamber of Co...   neutral   \n",
       "4     The Swedish buyout firm has sold its remaining...   neutral   \n",
       "...                                                 ...       ...   \n",
       "5837  RISING costs have forced packaging producer Hu...  negative   \n",
       "5838  Nordic Walking was first used as a summer trai...   neutral   \n",
       "5839  According shipping company Viking Line , the E...   neutral   \n",
       "5840  In the building and home improvement trade , s...   neutral   \n",
       "5841  HELSINKI AFX - KCI Konecranes said it has won ...  positive   \n",
       "\n",
       "      text_length                                       cleaned_text  \\\n",
       "0             218  geosolutions technology leverage benefon gps s...   \n",
       "1              55              esi low 1 50 2 50 bk real possibility   \n",
       "2             193  last quarter 2010 componenta net sale doubled ...   \n",
       "3             128  according finnish russian chamber commerce maj...   \n",
       "4             135  swedish buyout firm sold remaining 22 4 percen...   \n",
       "...           ...                                                ...   \n",
       "5837          107  rising cost forced packaging producer huhtamak...   \n",
       "5838           83  nordic walking first used summer training meth...   \n",
       "5839           99  according shipping company viking line eu deci...   \n",
       "5840           88  building home improvement trade sale decreased...   \n",
       "5841          145  helsinki afx kci konecranes said order four ho...   \n",
       "\n",
       "                                         tokenized_text  \\\n",
       "0     [geosolutions, technology, leverage, benefon, ...   \n",
       "1       [esi, low, 1, 50, 2, 50, bk, real, possibility]   \n",
       "2     [last, quarter, 2010, componenta, net, sale, d...   \n",
       "3     [according, finnish, russian, chamber, commerc...   \n",
       "4     [swedish, buyout, firm, sold, remaining, 22, 4...   \n",
       "...                                                 ...   \n",
       "5837  [rising, cost, forced, packaging, producer, hu...   \n",
       "5838  [nordic, walking, first, used, summer, trainin...   \n",
       "5839  [according, shipping, company, viking, line, e...   \n",
       "5840  [building, home, improvement, trade, sale, dec...   \n",
       "5841  [helsinki, afx, kci, konecranes, said, order, ...   \n",
       "\n",
       "                                           word_lengths  document_length  \\\n",
       "0     [12, 10, 8, 7, 3, 8, 9, 8, 5, 6, 10, 9, 8, 8, ...               21   \n",
       "1                          [3, 3, 1, 2, 1, 2, 2, 4, 11]                9   \n",
       "2     [4, 7, 4, 10, 3, 4, 7, 7, 6, 6, 4, 7, 5, 4, 3,...               21   \n",
       "3                    [9, 7, 7, 7, 8, 5, 12, 7, 7, 9, 6]               11   \n",
       "4      [7, 6, 4, 4, 9, 2, 1, 7, 5, 6, 8, 5, 6, 7, 6, 7]               16   \n",
       "...                                                 ...              ...   \n",
       "5837              [6, 4, 6, 9, 8, 9, 3, 2, 3, 9, 13, 5]               12   \n",
       "5838                     [6, 7, 5, 4, 6, 8, 6, 5, 7, 5]               10   \n",
       "5839                    [9, 8, 7, 6, 4, 2, 8, 11, 9, 6]               10   \n",
       "5840              [8, 4, 11, 5, 4, 9, 2, 1, 3, 3, 1, 2]               12   \n",
       "5841  [8, 3, 3, 10, 4, 5, 4, 3, 5, 5, 5, 6, 5, 8, 7,...               18   \n",
       "\n",
       "                                                bigrams  \\\n",
       "0     [(geosolutions, technology), (technology, leve...   \n",
       "1     [(esi, low), (low, 1), (1, 50), (50, 2), (2, 5...   \n",
       "2     [(last, quarter), (quarter, 2010), (2010, comp...   \n",
       "3     [(according, finnish), (finnish, russian), (ru...   \n",
       "4     [(swedish, buyout), (buyout, firm), (firm, sol...   \n",
       "...                                                 ...   \n",
       "5837  [(rising, cost), (cost, forced), (forced, pack...   \n",
       "5838  [(nordic, walking), (walking, first), (first, ...   \n",
       "5839  [(according, shipping), (shipping, company), (...   \n",
       "5840  [(building, home), (home, improvement), (impro...   \n",
       "5841  [(helsinki, afx), (afx, kci), (kci, konecranes...   \n",
       "\n",
       "                                               trigrams  avg_word_length  \n",
       "0     [(geosolutions, technology, leverage), (techno...         7.714286  \n",
       "1     [(esi, low, 1), (low, 1, 50), (1, 50, 2), (50,...         3.222222  \n",
       "2     [(last, quarter, 2010), (quarter, 2010, compon...         5.000000  \n",
       "3     [(according, finnish, russian), (finnish, russ...         7.636364  \n",
       "4     [(swedish, buyout, firm), (buyout, firm, sold)...         5.625000  \n",
       "...                                                 ...              ...  \n",
       "5837  [(rising, cost, forced), (cost, forced, packag...         6.416667  \n",
       "5838  [(nordic, walking, first), (walking, first, us...         5.900000  \n",
       "5839  [(according, shipping, company), (shipping, co...         7.000000  \n",
       "5840  [(building, home, improvement), (home, improve...         4.416667  \n",
       "5841  [(helsinki, afx, kci), (afx, kci, konecranes),...         5.222222  \n",
       "\n",
       "[5842 rows x 10 columns]"
      ]
     },
     "execution_count": 204,
     "metadata": {},
     "output_type": "execute_result"
    }
   ],
   "source": [
    "df['avg_word_length']=df['word_lengths'].apply(lambda x: np.mean(x))\n",
    "df"
   ]
  },
  {
   "cell_type": "code",
   "execution_count": 205,
   "id": "a11d27b8",
   "metadata": {},
   "outputs": [
    {
     "data": {
      "image/png": "[encoded data removed]",
      "text/plain": [
       "<Figure size 720x432 with 1 Axes>"
      ]
     },
     "metadata": {
      "needs_background": "light"
     },
     "output_type": "display_data"
    }
   ],
   "source": [
    "plt.figure(figsize=(10, 6))\n",
    "sns.boxplot(x='Sentiment', y='avg_word_length', data=df, palette='Set2')\n",
    "plt.title('Average Word Length by Sentiment')\n",
    "plt.xlabel('Sentiment')\n",
    "plt.ylabel('Average Word Length')\n",
    "plt.show()"
   ]
  },
  {
   "cell_type": "markdown",
   "id": "fd1dec54",
   "metadata": {},
   "source": [
    "## Sentiment Vs N-gram analysis"
   ]
  },
  {
   "cell_type": "code",
   "execution_count": 206,
   "id": "4a11b9d8",
   "metadata": {},
   "outputs": [],
   "source": [
    "def get_most_common_ngrams(sentiment, n, df):\n",
    "    all_ngrams = [ngram for sublist in df[df['Sentiment']==sentiment][n] for ngram in sublist]\n",
    "    ngram_freq = Counter(all_ngrams)\n",
    "    common_ngrams = ngram_freq.most_common(20)\n",
    "    ngram_df = pd.DataFrame(common_ngrams, columns=[n, 'Frequency'])\n",
    "\n",
    "    plt.figure(figsize=(10, 6))\n",
    "    sns.barplot(x='Frequency', y=[f'{x[0]} {x[1]}' for x in ngram_df[n]], data=ngram_df, palette='Blues_r')\n",
    "    plt.title(f'Most Common {n} for {sentiment} sentiment')\n",
    "    plt.xlabel('Frequency')\n",
    "    plt.ylabel(f'{n}')\n",
    "    plt.show()"
   ]
  },
  {
   "cell_type": "code",
   "execution_count": 207,
   "id": "d5cc2a98",
   "metadata": {},
   "outputs": [
    {
     "data": {
      "text/plain": [
       "'positive'"
      ]
     },
     "execution_count": 207,
     "metadata": {},
     "output_type": "execute_result"
    }
   ],
   "source": [
    "df['Sentiment'].unique()[0]"
   ]
  },
  {
   "cell_type": "code",
   "execution_count": 208,
   "id": "8de9d113",
   "metadata": {},
   "outputs": [
    {
     "data": {
      "image/png": "[encoded data removed]",
      "text/plain": [
       "<Figure size 720x432 with 1 Axes>"
      ]
     },
     "metadata": {
      "needs_background": "light"
     },
     "output_type": "display_data"
    },
    {
     "data": {
      "image/png": "[encoded data removed]",
      "text/plain": [
       "<Figure size 720x432 with 1 Axes>"
      ]
     },
     "metadata": {
      "needs_background": "light"
     },
     "output_type": "display_data"
    },
    {
     "data": {
      "image/png": "[encoded data removed]",
      "text/plain": [
       "<Figure size 720x432 with 1 Axes>"
      ]
     },
     "metadata": {
      "needs_background": "light"
     },
     "output_type": "display_data"
    },
    {
     "data": {
      "image/png": "[encoded data removed]",
      "text/plain": [
       "<Figure size 720x432 with 1 Axes>"
      ]
     },
     "metadata": {
      "needs_background": "light"
     },
     "output_type": "display_data"
    },
    {
     "data": {
      "image/png": "[encoded data removed]",
      "text/plain": [
       "<Figure size 720x432 with 1 Axes>"
      ]
     },
     "metadata": {
      "needs_background": "light"
     },
     "output_type": "display_data"
    },
    {
     "data": {
      "image/png": "[encoded data removed]",
      "text/plain": [
       "<Figure size 720x432 with 1 Axes>"
      ]
     },
     "metadata": {
      "needs_background": "light"
     },
     "output_type": "display_data"
    }
   ],
   "source": [
    "ngrams = ['bigrams','trigrams']\n",
    "for n in ngrams:\n",
    "    for sentiment in df['Sentiment'].unique():\n",
    "        get_most_common_ngrams(sentiment,n,df)"
   ]
  },
  {
   "cell_type": "code",
   "execution_count": 225,
   "id": "ef276a48",
   "metadata": {},
   "outputs": [],
   "source": [
    "df.to_csv('Preprocessed_Data.csv',index=False)"
   ]
  }
 ],
 "metadata": {
  "kernelspec": {
   "display_name": "Python 3 (ipykernel)",
   "language": "python",
   "name": "python3"
  },
  "language_info": {
   "codemirror_mode": {
    "name": "ipython",
    "version": 3
   },
   "file_extension": ".py",
   "mimetype": "text/x-python",
   "name": "python",
   "nbconvert_exporter": "python",
   "pygments_lexer": "ipython3",
   "version": "3.10.5"
  }
 },
 "nbformat": 4,
 "nbformat_minor": 5
}
